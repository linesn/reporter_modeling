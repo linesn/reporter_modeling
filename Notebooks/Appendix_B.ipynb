{
 "cells": [
  {
   "cell_type": "markdown",
   "id": "8f7168a2-14b6-4479-bbcb-dcc26bbfdf09",
   "metadata": {},
   "source": [
    "# Appendix B: Code For Reporter Model A {-}\n",
    "\n",
    "*Nicholas Lines*"
   ]
  },
  {
   "cell_type": "markdown",
   "id": "174e04c8-8a5c-49b8-a296-e891edeeae63",
   "metadata": {
    "jp-MarkdownHeadingCollapsed": true,
    "tags": []
   },
   "source": [
    "# Environment Setup"
   ]
  },
  {
   "cell_type": "code",
   "execution_count": 1,
   "id": "cc05ef0d-7971-4d18-b6a1-0cea72644c50",
   "metadata": {},
   "outputs": [
    {
     "name": "stdout",
     "output_type": "stream",
     "text": [
      "%pylab is deprecated, use %matplotlib inline and import the required libraries.\n",
      "Populating the interactive namespace from numpy and matplotlib\n"
     ]
    }
   ],
   "source": [
    "%pylab inline"
   ]
  },
  {
   "cell_type": "code",
   "execution_count": 2,
   "id": "3553ecc9-a925-42d2-9cb9-6c851463f95c",
   "metadata": {},
   "outputs": [],
   "source": [
    "from importlib import reload\n",
    "import reporter"
   ]
  },
  {
   "cell_type": "code",
   "execution_count": 10,
   "id": "41fcbf53-5594-4d95-8c0c-099f3d18dc10",
   "metadata": {},
   "outputs": [],
   "source": [
    "reload(reporter);"
   ]
  },
  {
   "cell_type": "code",
   "execution_count": 3,
   "id": "854d91e3-440d-4473-989a-2a3cafb9c388",
   "metadata": {},
   "outputs": [
    {
     "name": "stdout",
     "output_type": "stream",
     "text": [
      "pymc3\n"
     ]
    }
   ],
   "source": [
    "import os\n",
    "print (os.environ['CONDA_DEFAULT_ENV'])"
   ]
  },
  {
   "cell_type": "code",
   "execution_count": 4,
   "id": "329aa49f-b103-4792-bd16-3b1b865f11d7",
   "metadata": {},
   "outputs": [],
   "source": [
    "#import arviz as az\n",
    "import numpy as np\n",
    "import warnings\n",
    "warnings.filterwarnings(\"ignore\")\n",
    "import matplotlib.pyplot as plt\n",
    "#import graphviz\n",
    "import os\n",
    "import pymc3 as pm\n",
    "from pymc3 import Model, Normal, HalfNormal, Bernoulli, Deterministic, Uniform\n",
    "from pymc3 import find_MAP"
   ]
  },
  {
   "cell_type": "code",
   "execution_count": 5,
   "id": "0537ec6b-1140-47a1-af1e-a445d87c1b67",
   "metadata": {},
   "outputs": [],
   "source": [
    "import scipy.stats as st"
   ]
  },
  {
   "cell_type": "code",
   "execution_count": 6,
   "id": "f655191b-4efe-4c5f-b7fa-45fc3514cde4",
   "metadata": {},
   "outputs": [],
   "source": [
    "from tqdm.notebook import tqdm"
   ]
  },
  {
   "cell_type": "markdown",
   "id": "077202c5-d5de-488a-8440-8e91e788336b",
   "metadata": {
    "tags": []
   },
   "source": [
    "# A Generative Model for News Information"
   ]
  },
  {
   "cell_type": "markdown",
   "id": "b2a62f3e-91bf-40b4-82be-d5d9dc3a721d",
   "metadata": {
    "tags": []
   },
   "source": [
    "We wish to model the information network by which a news reporter can gather facts about the news topics of interest to them. While we will use vocabulary related to the application of gathering information about news topics, we note that this task is analagous to many other information-gathering-and-fusion processes. \n",
    "\n",
    "Consider a reporter who must stay informed about $n_j$ news topics, indexed by $j$. The reporter cannot observe the facts related to these news topics directly, and relies on a network of first-hand observers to inform the reporter. This network consists of $n_i$ observers, indexed by $i$, who each provide an observation at each time step $t$ of $n_t$ timesteps. These observations, labeled $o_{i,j,t}$ (for observer $i$ speaking about topic $j$ at time $t$) are the only information provided to the reporter.\n",
    "\n",
    "Many techniques have been proposed to derive \"facts\" from text streams and other media, but we will not include these steps. Instead, we will assume that each news topic $j$ produces a single binary \"fact\" called $f_{j,t}$ at each time step $t$. (For example, the sports topic might yield facts such as \"The tigers beat the rams on Saturday,\" which can be represented as a 1 or 0 for true or false.) The fact is then observed by each observer. However, we wish to model the fact that not all observers are are equally aware of all newsworthy subjects, and not all observers will pass on their information at each time step. Therefore, we insist on the following dependencies.\n",
    "\n",
    "1. The binary fact for each topic and each timestep is sampled from a Bernoulli distribution $f_{j,t} \\sim Bern(\\delta_j)$ where $\\delta_j\\sim Unif(0,1)$ represents the bias of this news topic toward 1-valued facts. \n",
    "2. Whether an observer will report their observation or not is represented by the binary variable $\\tau_{i,j,t} \\sim Bern(\\epsilon_{i,j})$ where $\\epsilon_{i,j}\\sim Unif(0,1)$ represents that observer's bias toward reporting about this news topic.\n",
    "3. Whether an observer is well-informed about this topic's fact at time $t$ is represented by the binary variable $a_{i,j,t} \\sim Bern(\\beta_{i,j})$ where $\\beta_{i,j}\\sim Unif(0,1)$ is a hyperparameter representing how well-informed the observer is on this topic on average. This hyperparameter is the variable of most interest for us.\n",
    "4. Let $\\tilde{x}$ represent `not` $x$ for a binary variable $x$. We will use a uniform random binary variable $r_{i,j,t} \\sim Bern(0.5)$. The observer's report to the reporter is \n",
    "$$o_{i,j,t} = \\tau_{i,j,t}(a_{i,j,t}f_{j,t} + \\tilde{a_{i,j,t}}r_{i,j,t}) + 2\\tilde{\\tau_{i,j,t}},$$\n",
    "meaning that if the observer is aware and chooses to report at this timestep, they report the fact $f_{j,t}$ with no alteration; if the observer is unaware, the observer reports 1 or 0 with equal probability; and if the observer chooses not to report, a 2 is returned, signifying that no information was passed on.\n",
    "5. The reporter then constructs $$b_j = mode_i(\\{o_{i,j,t} : o_{i,j,t}\\neq2\\})$$ as an approximation to $f_{j,t}$, i.e. the reporter's best guess at the true fact.  \n",
    "\n",
    "This model is shown in the diagram below."
   ]
  },
  {
   "cell_type": "markdown",
   "id": "9b00ffa3-5310-4cd8-98df-28f579c4a679",
   "metadata": {},
   "source": [
    "![](../Images/reporting_network.jpg)"
   ]
  },
  {
   "cell_type": "markdown",
   "id": "c2fd30aa-64e1-4a74-a4cf-cbe627f98f0c",
   "metadata": {},
   "source": [
    "We should make a few observations about this naive construction before continuing. \n",
    "\n",
    "1. First, the approximation $b_j \\approx f_{j,t}$ is not really legitimate because it could well be that all observers agreed to lie. Really $b_j$ tells us nothing more than the consensus of observations about the fact. This fact is important in situations where we suspect that there is not consensus or that the consensus of our observers is unreliable. \n",
    "2. The model as stated leaves each topic's network entirely independent of the other topics, so there is no real need for the outermost plate in the diagram: this was included solely to remind us of this assumption and to indicate that this problem scales in topics $j$. \n",
    "3. The purpose for laying out this generative model is to help us strategize how to learn the observer awareness hyperparameter, $\\beta_{i,j}$, which will allow us to reduce the network by cutting all edges $o_{i,j,t} - b_{j,t}$ when $\\beta_{i,j} < \\rho$ for some threshold $\\rho$.\n",
    "4. We are not interested in recovering any other hyperparameters in this situation. These exist solely to lend verisimilitude to the model.\n",
    "5. If we allow $\\lvert\\delta_j-0.5\\rvert$ to grow too small, the inference problem gets much harder."
   ]
  },
  {
   "cell_type": "markdown",
   "id": "d45abb29-179b-4d1b-9e2a-e9d29296a45f",
   "metadata": {
    "tags": []
   },
   "source": [
    "# Extremely Simple Inference  "
   ]
  },
  {
   "cell_type": "markdown",
   "id": "ed3c19e4-9283-4871-a62d-a473c9e3cd4e",
   "metadata": {
    "jp-MarkdownHeadingCollapsed": true,
    "tags": []
   },
   "source": [
    "Let's consider how we could approximate $\\beta_{i,j}$ using the assumed distributions. If we condition on $\\tau_{i,j,t}=1$ we restrict ourselves to a reveiw of the informative reports from a single observer, i.e. $$\\{ o_{i,j,t}: o_{i,j,t}\\neq 2, i=\\bar{i} \\},$$\n",
    "and we can write \n",
    "$$ o_{i,j,t} = a_{i,j,t} f_{j,t} + \\tilde{a}_{i,j,t} r_{i,j,t}.$$\n",
    "\n",
    "We can quickly describe the probability distribution for $o_{i,j,t}$ under these conditions using a probability table (since these are all binary variables). We recall that the parameter of each Bernoulli random variable represents the probability that variable equals one. (For simplicity we will drop the subscripts for the table.)  \n",
    "\n",
    "\n",
    "| $o$ | $a$ | $f$ | $r$ | $P(a)$   | $P(f)$   | $P(r)$ | \n",
    "|-----|-----|-----|-----|----------|----------|--------|\n",
    "| 0   | 1   | 0   | 0   | $\\beta$  |$1-\\delta$| 0.5 (always) |\n",
    "| 1   | 1   | 1   | 0   | $\\beta$  |$\\delta$  | 0.5    |\n",
    "| 1   | 1   | 1   | 1   | $\\beta$  |$\\delta$  | 0.5    |\n",
    "| 0   | 1   | 0   | 1   | $\\beta$  |$1-\\delta$| 0.5    |\n",
    "| 1   | 0   | 1   | 1   |$1-\\beta$ |$\\delta$  | 0.5    |\n",
    "| 1   | 0   | 0   | 1   |$1-\\beta$ |$1-\\delta$| 0.5    |\n",
    "| 0   | 0   | 1   | 0   |$1-\\beta$ |$\\delta$  | 0.5    |\n",
    "| 0   | 0   | 0   | 0   |$1-\\beta$ |$1-\\delta$| 0.5    |\n",
    "\n",
    "Each of $\\beta,\\delta,$ and $r$ are mutually independent variables, so their joint probability is the product of their marginal probabilities. By summing up the joint probabilities of combinations that lead us to $o_{\\bar{i},j,t}=1$ we have\n",
    "\n",
    "\\begin{align}\n",
    "P(o_{\\bar{i},j,t}=1) &= 0.5(\\beta_{\\bar{i},j}\\delta_j + \\delta_j - \\beta_{\\bar{i},j,t}\\delta_j + 1 - \\beta_{\\bar{i},j,t} - \\delta_j + \\beta_{\\bar{i},j,t}\\delta_j + \\beta_{\\bar{i},j,t}\\delta_j)\\\\\n",
    "       &= 0.5(-\\beta_{\\bar{i},j,t} + \\beta_{\\bar{i},j,t}\\delta_j + 1)\n",
    "\\end{align}\n",
    "\n",
    "We would reach the same result with much less work using conditional probabilities (factors), since \n",
    "\\begin{align}\n",
    "P(o_{\\bar{i},j,t}=1) &= P(o_{\\bar{i},j,t}=1 \\mid a_{\\bar{i},j,t}=0) P(a_{\\bar{i},j,t}=0) + P(o_{\\bar{i},j,t}=1 \\mid a_{\\bar{i},j,t}=1) P(a_{\\bar{i},j,t}=1)\\\\\n",
    "&= 0.5(1-\\beta_{\\bar{i},j}) + \\delta_j \\beta_{\\bar{i},j}.\n",
    "\\end{align}\n",
    "\n",
    "Solving for $\\beta$ gives us\n",
    "$$\\beta_{\\bar{i},j,t} = \\frac{2P(o_{\\bar{i},j,t}=1) - 1}{2\\delta_j - 1}.$$"
   ]
  },
  {
   "cell_type": "markdown",
   "id": "8c439a92-d5b7-401a-beef-ffc431b4f753",
   "metadata": {},
   "source": [
    "We could approximate \n",
    "$$\\delta_j \\approx \\hat{\\delta_j} = \\frac{ \\# \\{o_{i,j,t} : o_{i,j,t}=1\\}}{ \\# \\{o_{i,j,t} : o_{i,j,t}\\neq 2 \\} },$$\n",
    "\n",
    "i.e. we use the sample mean of the informative observations to approximate the probability that a generated fact equals 1 (an extension of the approximation $b_{j,t}=\\hat{f}_{j,t}\\approx f_{j,t}$). But we already have the observed mean\n",
    "$$\\hat{\\delta_j} = \\bar{b_{j,t}},$$\n",
    "which immediately fills that role.\n",
    "\n",
    "Our statistic for $P(o_{\\bar{i},j,t}=1)$ is the observed probability\n",
    "$$ P(o_{\\bar{i},j,t}=1) = \\frac{ \\# \\{o_{\\bar{i},j,t} : o_{\\bar{i},j,t}=1\\}}{ \\# \\{o_{\\bar{i},j,t} : o_{\\bar{i},j,t}\\neq 2 \\} }.$$\n",
    "\n",
    "Now we can make the approximation\n",
    "\n",
    "\\begin{align}\n",
    "\\beta_{i,j}\\approx \\hat{\\beta_{i,j}} &= \\frac{2 \\frac{ \\# \\{o_{\\bar{i},j,t} : o_{\\bar{i},j,t}=1\\}}{ \\# \\{o_{\\bar{i},j,t} : o_{\\bar{i},j,t}\\neq 2 \\} } -1}{2\\hat{\\delta_j}-1}\\\\\n",
    "&= \\frac{2 \\frac{ \\# \\{o_{\\bar{i},j,t} : o_{\\bar{i},j,t}=1\\}}{ \\# \\{o_{\\bar{i},j,t} : o_{\\bar{i},j,t}\\neq 2 \\} } -1}{2\\frac{ \\# \\{o_{i,j,t} : o_{i,j,t}=1\\}}{ \\# \\{o_{i,j,t} : o_{i,j,t}\\neq 2 \\} } - 1}.\n",
    "\\end{align}"
   ]
  },
  {
   "cell_type": "markdown",
   "id": "df972774-598e-4810-9276-9779d6818d97",
   "metadata": {},
   "source": [
    "# Simulating Data with this Model\n",
    "\n",
    "We want to create an artificial dataset so we can observe this model at work, and hopefully show how to recover the desired hyperparameter."
   ]
  },
  {
   "cell_type": "markdown",
   "id": "42a87122-c681-45e0-aa5a-825ccf1795eb",
   "metadata": {},
   "source": [
    "Generate sample data"
   ]
  },
  {
   "cell_type": "code",
   "execution_count": 8,
   "id": "4d4cfa91-7439-4933-ba0b-79bde426cbc8",
   "metadata": {},
   "outputs": [],
   "source": [
    "n_i = 20\n",
    "n_t = 1000\n",
    "data = reporter.generate_data(n_i, n_t, r_p=0.5)"
   ]
  },
  {
   "cell_type": "markdown",
   "id": "db02629c-c459-4f4f-b956-d25b5321b634",
   "metadata": {},
   "source": [
    "## Approximate Parameter Inference"
   ]
  },
  {
   "cell_type": "code",
   "execution_count": 11,
   "id": "cdfffe4c-2bc4-4031-95cf-7abfb3686df4",
   "metadata": {},
   "outputs": [
    {
     "name": "stdout",
     "output_type": "stream",
     "text": [
      "Estimators are delta_hat=0.813, b, beta_hat.\n",
      "The norm distance between epsilon_hat and epsilon is 0.06284274373013359.\n",
      "The approximation b for f is 93.7% accurate.\n",
      "The approximation delta_hat for delta=0.8590461529521575 has relative error -0.05360148903981176.\n",
      "The norm distance between beta_hat and beta is 0.5460080903701915.\n",
      "The beta_hat estimator recognizes betas less than 0.5\n",
      "100.0% of the time.\n"
     ]
    }
   ],
   "source": [
    "estimators = reporter.evaluate_estimators_full(data=data, agreement_thresh=0.5, printing=True)"
   ]
  },
  {
   "cell_type": "code",
   "execution_count": 12,
   "id": "ecfbefcc-61dd-4bfe-ae2e-d77dfd263de0",
   "metadata": {},
   "outputs": [],
   "source": [
    "(o, delta, f, beta, alpha, epsilon,tau,r) = data"
   ]
  },
  {
   "cell_type": "markdown",
   "id": "8241386b-516c-426d-b529-aac2d7286967",
   "metadata": {},
   "source": [
    "# Dynamically Pruning Unhelpful Observers"
   ]
  },
  {
   "cell_type": "markdown",
   "id": "1b5fe4a7-ce0a-49e9-a143-308ae715065f",
   "metadata": {},
   "source": [
    "## Pruning by convergence of $\\hat{\\beta}$"
   ]
  },
  {
   "cell_type": "code",
   "execution_count": 61,
   "id": "673c5e73-0965-4a8c-8b0d-2f75fb4eb0a7",
   "metadata": {},
   "outputs": [],
   "source": [
    "def prune_by_beta_hat_convergence(data, tolerance=.1, agreement_thresh=0.5, printing=True):\n",
    "    \"\"\"Prune unhelpful observers by beta_hat convergence.\n",
    "    \n",
    "    Args:\n",
    "        data (tuple): The output from generate_data, a tuple of\n",
    "            (o, delta, f, beta, alpha, epsilon,tau,r).\n",
    "        tolerance (float): The relative change level at which to\n",
    "            declare convergence.\n",
    "        agreement_thresh (float): The agreement threshold for \n",
    "            proportionate threshold agreement.\n",
    "        printing (bool): Indicates whether to print info.\n",
    "    Returns:\n",
    "        \n",
    "    \"\"\"\n",
    "    (o, delta, f, beta, alpha, epsilon,tau,r) = data\n",
    "    # We need to drop any timestep where we got absolutely no information.\n",
    "    drop_rows = np.argwhere(np.all(o == 2, axis=1)).flatten()\n",
    "    o = np.delete(o,drop_rows,0)\n",
    "    n_t, n_i = o.shape\n",
    "    pruned_observers = zeros(n_i)\n",
    "    beta_hats = []\n",
    "    for t_max in tqdm(range(n_t)):\n",
    "        # Form beta_hat\n",
    "        b = np.array([st.mode([oit for oit in o[t] if oit!=2])[0][0] for t in range(t_max)])\n",
    "        delta_hat = np.mean(b)\n",
    "        p_o_i_bar_1 = [(o[:t_max,i]==1).sum()/((o[:t_max,i]!=2).sum()) for i in range(n_i)]\n",
    "        beta_hat = np.array([(2 * p_i - 1) / (2*delta_hat - 1) for p_i in p_o_i_bar_1])\n",
    "        beta_hats.append(beta_hat)\n",
    "        if t_max>0:\n",
    "            # Check convergence\n",
    "            c = np.abs(np.divide(beta_hats[t_max]-beta_hats[t_max-1],\n",
    "                                 beta_hats[t_max-1])) <= tolerance\n",
    "            u = beta_hats[t_max] <= agreement_thresh\n",
    "            for i in range(n_i):\n",
    "                if c[i] and u[i] and not pruned_observers[i]:\n",
    "                    pruned_observers[i] = t_max\n",
    "    # compute evaluation results with pruning\n",
    "    drop_cols = np.nonzero(pruned_observers)\n",
    "    keep_cols = np.where(pruned_observers==0)[0]\n",
    "    beta_cut = np.array([beta[i] for i in keep_cols])\n",
    "    op = np.delete(o,drop_cols,1)\n",
    "    # Concensus estimator for f\n",
    "    b = np.array([st.mode([oit for oit in op[t] if oit!=2])[0][0] \\\n",
    "                  if np.any(op[t]!=2) else 0 for t in range(n_t)])\n",
    "    f = np.delete(f,drop_rows)\n",
    "    # Judge the quality of the f estimate\n",
    "    concensus_f_accuracies = 1-(abs(b-f).sum()/b.shape[0])\n",
    "    # Estimate the probability of observing 1 empirically\n",
    "    p_o_i_bar_1 = [(o[:,i]==1).sum()/((o[:,i]!=2).sum()) for i in keep_cols] \n",
    "    # Estimate delta\n",
    "    delta_hat = np.mean(b)\n",
    "    # Estimate beta\n",
    "    beta_hat = np.array([(2 * p_i - 1) / (2*delta_hat - 1) for p_i in p_o_i_bar_1])\n",
    "    # Judge the quality of the beta estimate\n",
    "    beta_norm = np.linalg.norm(beta_hat - beta_cut)\n",
    "    beta_agreements = reporter.proportionate_threshold_agreement(beta_hat, \n",
    "                                                                 beta_cut, \n",
    "                                                                 agreement_thresh)\n",
    "    if printing:\n",
    "        print(\"Results when pruning by beta_hat convergence:\")\n",
    "        print(f\"The observer pruning is \\n{pruned_observers}\")\n",
    "        print(f\"Estimators are delta_hat={delta_hat}, b, beta_hat.\")\n",
    "        #print(f\"The norm distance between epsilon_hat and epsilon is {epsilon_norm}.\")\n",
    "        print(f\"The approximation b for f is {100*concensus_f_accuracies}% accurate.\")\n",
    "        print(f\"The approximation delta_hat for delta={delta}\") \n",
    "        print(f\"has relative error {(delta_hat-delta)/delta}.\")\n",
    "        print(f\"The norm distance between beta_hat and beta is {beta_norm}.\")\n",
    "        print(f\"The beta_hat estimator recognizes betas less than {agreement_thresh}\")\n",
    "        print(f\"{beta_agreements*100}% of the time.\")\n",
    "    return(pruned_observers, b, delta_hat, beta_hat)"
   ]
  },
  {
   "cell_type": "code",
   "execution_count": 62,
   "id": "f204ee9f-5c68-459c-82c6-fd689191d2bc",
   "metadata": {},
   "outputs": [
    {
     "data": {
      "application/vnd.jupyter.widget-view+json": {
       "model_id": "b59ab7d2bafa4b1bb1b078c68f4f0125",
       "version_major": 2,
       "version_minor": 0
      },
      "text/plain": [
       "  0%|          | 0/1000 [00:00<?, ?it/s]"
      ]
     },
     "metadata": {},
     "output_type": "display_data"
    },
    {
     "name": "stdout",
     "output_type": "stream",
     "text": [
      "Results when pruning by beta_hat convergence:\n",
      "The observer pruning is \n",
      "[ 0.  0.  8. 74.  4.  4. 25. 27.  8.  4.  6.  4. 39.  8.  8.  6.  0.  4.\n",
      "  0. 20.]\n",
      "Estimators are delta_hat=0.813, b, beta_hat.\n",
      "The approximation b for f is 93.9% accurate.\n",
      "The approximation delta_hat for delta=0.8590461529521575\n",
      "has relative error -0.05360148903981176.\n",
      "The norm distance between beta_hat and beta is 0.32500630254090734.\n",
      "The beta_hat estimator recognizes betas less than 0.5\n",
      "100.0% of the time.\n"
     ]
    }
   ],
   "source": [
    "pestimators = prune_by_beta_hat_convergence(data, tolerance=.1, agreement_thresh=0.5, printing=True)"
   ]
  },
  {
   "cell_type": "markdown",
   "id": "d8d297e2-1336-43d3-a988-075cc96a5f5b",
   "metadata": {},
   "source": [
    "## Pruning after a set number of timesteps\n",
    "The idea in this case is to run n_p timesteps and then prune any observer $i$ where $\\hat{\\beta}_{i,t=n_p}<\\aleph$ for a given threshold $\\aleph\\approx 0.5$."
   ]
  },
  {
   "cell_type": "code",
   "execution_count": 68,
   "id": "754bcbd6-272c-4f0e-8191-e3b4ea69aa23",
   "metadata": {},
   "outputs": [],
   "source": [
    "def prune_at_n_p(data, n_p=100, agreement_thresh=0.5, repeat=True, printing=True):\n",
    "    \"\"\"Prune unhelpful observers after n_p.\n",
    "    \n",
    "    Args:\n",
    "        data (tuple): The output from generate_data, a tuple of\n",
    "            (o, delta, f, beta, alpha, epsilon,tau,r).\n",
    "        n_p (int): We check for unhelpful observers at timesteps\n",
    "            that are multiples of n_p. Must be less than n_t.\n",
    "        agreement_thresh (float): The agreement threshold for \n",
    "            proportionate threshold agreement.\n",
    "        repeat (bool): Indicates whether to use multiples of n_p\n",
    "            or just the one pruning.\n",
    "        printing (bool): Indicates whether to print info.\n",
    "    Returns:\n",
    "        \n",
    "    \"\"\"\n",
    "    (o, delta, f, beta, alpha, epsilon,tau,r) = data\n",
    "    # We need to drop any timestep where we got absolutely no information.\n",
    "    drop_rows = np.argwhere(np.all(o == 2, axis=1)).flatten()\n",
    "    o = np.delete(o,drop_rows,0)\n",
    "    n_t, n_i = o.shape\n",
    "    pruned_observers = zeros(n_i)\n",
    "    #beta_hats = []\n",
    "    n_ps = [n_p]\n",
    "    if repeat:\n",
    "        n_ps = range(n_p, n_t, n_p)\n",
    "    for t_max in tqdm(n_ps):\n",
    "        # Form beta_hat\n",
    "        b = np.array([st.mode([oit for oit in o[t] if oit!=2])[0][0] for t in range(t_max)])\n",
    "        delta_hat = np.mean(b)\n",
    "        p_o_i_bar_1 = [(o[:t_max,i]==1).sum()/((o[:t_max,i]!=2).sum()) for i in range(n_i)]\n",
    "        beta_hat = np.array([(2 * p_i - 1) / (2*delta_hat - 1) for p_i in p_o_i_bar_1])\n",
    "        #beta_hats.append(beta_hat)\n",
    "        # Check convergence\n",
    "        u = beta_hat <= agreement_thresh\n",
    "        for i in range(n_i):\n",
    "            if u[i] and not pruned_observers[i]:\n",
    "                pruned_observers[i] = t_max\n",
    "    # compute evaluation results with pruning\n",
    "    drop_cols = np.nonzero(pruned_observers)\n",
    "    keep_cols = np.where(pruned_observers==0)[0]\n",
    "    beta_cut = np.array([beta[i] for i in keep_cols])\n",
    "    op = np.delete(o,drop_cols,1)\n",
    "    # Concensus estimator for f\n",
    "    b = np.array([st.mode([oit for oit in op[t] if oit!=2])[0][0] \\\n",
    "                  if np.any(op[t]!=2) else 0 for t in range(n_t)])\n",
    "    f = np.delete(f,drop_rows)\n",
    "    # Judge the quality of the f estimate\n",
    "    concensus_f_accuracies = 1-(abs(b-f).sum()/b.shape[0])\n",
    "    # Estimate the probability of observing 1 empirically\n",
    "    p_o_i_bar_1 = [(o[:,i]==1).sum()/((o[:,i]!=2).sum()) for i in keep_cols] \n",
    "    # Estimate delta\n",
    "    delta_hat = np.mean(b)\n",
    "    # Estimate beta\n",
    "    beta_hat = np.array([(2 * p_i - 1) / (2*delta_hat - 1) for p_i in p_o_i_bar_1])\n",
    "    # Judge the quality of the beta estimate\n",
    "    beta_norm = np.linalg.norm(beta_hat - beta_cut)\n",
    "    beta_agreements = reporter.proportionate_threshold_agreement(beta_hat, \n",
    "                                                                 beta_cut, \n",
    "                                                                 agreement_thresh)\n",
    "    if printing:\n",
    "        if not repeat:\n",
    "            print(f\"Results when pruning once at n_p={n_p}:\")\n",
    "        else:\n",
    "            print(f\"Results when pruning every n_p={n_p} steps:\")\n",
    "        print(f\"The observer pruning is \\n{pruned_observers}\")\n",
    "        print(f\"Estimators are delta_hat={delta_hat}, b, beta_hat.\")\n",
    "        #print(f\"The norm distance between epsilon_hat and epsilon is {epsilon_norm}.\")\n",
    "        print(f\"The approximation b for f is {100*concensus_f_accuracies}% accurate.\")\n",
    "        print(f\"The approximation delta_hat for delta={delta}\") \n",
    "        print(f\"has relative error {(delta_hat-delta)/delta}.\")\n",
    "        print(f\"The norm distance between beta_hat and beta is {beta_norm}.\")\n",
    "        print(f\"The beta_hat estimator recognizes betas less than {agreement_thresh}\")\n",
    "        print(f\"{beta_agreements*100}% of the time.\")\n",
    "    return(pruned_observers, b, delta_hat, beta_hat)"
   ]
  },
  {
   "cell_type": "code",
   "execution_count": 69,
   "id": "dfc9e08d-fd64-49b5-b899-1ed199b0c823",
   "metadata": {},
   "outputs": [
    {
     "data": {
      "application/vnd.jupyter.widget-view+json": {
       "model_id": "9874ad6fa8dd4a1c8bd92534824eb445",
       "version_major": 2,
       "version_minor": 0
      },
      "text/plain": [
       "  0%|          | 0/9 [00:00<?, ?it/s]"
      ]
     },
     "metadata": {},
     "output_type": "display_data"
    },
    {
     "name": "stdout",
     "output_type": "stream",
     "text": [
      "Results when pruning every n_p=100 steps:\n",
      "The observer pruning is \n",
      "[  0.   0. 100. 200. 100. 100. 100. 100. 100. 100. 100.   0.   0. 100.\n",
      "   0. 100.   0. 200.   0. 100.]\n",
      "Estimators are delta_hat=0.837, b, beta_hat.\n",
      "The approximation b for f is 96.7% accurate.\n",
      "The approximation delta_hat for delta=0.8590461529521575\n",
      "has relative error -0.025663525616632744.\n",
      "The norm distance between beta_hat and beta is 0.24712039308903547.\n",
      "The beta_hat estimator recognizes betas less than 0.5\n",
      "100.0% of the time.\n"
     ]
    }
   ],
   "source": [
    "npestimators = prune_at_n_p(data, n_p=100, agreement_thresh=0.5, repeat=True, printing=True)"
   ]
  },
  {
   "cell_type": "markdown",
   "id": "c7df1bca-11aa-475d-a380-b88361ab1615",
   "metadata": {},
   "source": [
    "## Markovian Reduction\n",
    "The idea of this \"pruning\" variation is that we down-weight each observer's contribution if their previous contribution disagreed with the consensus."
   ]
  },
  {
   "cell_type": "code",
   "execution_count": 80,
   "id": "baa7203e-348f-43c7-91fd-3246aa016926",
   "metadata": {},
   "outputs": [],
   "source": [
    "def markov_reduce(data, reduction=0.9, agreement_thresh=0.5, printing=True):\n",
    "    \"\"\"Reduce unhelpful observers by Markov history.\n",
    "    \n",
    "    Args:\n",
    "        data (tuple): The output from generate_data, a tuple of\n",
    "            (o, delta, f, beta, alpha, epsilon,tau,r).\n",
    "        reduction (float): An incorrect answer reduces trust by\n",
    "            this multiplicative amount.\n",
    "        agreement_thresh (float): The agreement threshold for \n",
    "            proportionate threshold agreement.\n",
    "        printing (bool): Indicates whether to print info.\n",
    "    Returns:\n",
    "        \n",
    "    \"\"\"\n",
    "    (o, delta, f, beta, alpha, epsilon,tau,r) = data\n",
    "    # We need to drop any timestep where we got absolutely no information.\n",
    "    drop_rows = np.argwhere(np.all(o == 2, axis=1)).flatten()\n",
    "    o = np.delete(o,drop_rows,0)\n",
    "    conc = []\n",
    "    n_t, n_i = o.shape\n",
    "    observer_trust = ones(n_i)\n",
    "    beta_hats = []\n",
    "    for t_max in tqdm(range(n_t)):\n",
    "        # the consensus is now a weighted vote\n",
    "        consensus = np.argmax(np.bincount(o[t_max], weights=observer_trust)[:2])\n",
    "        conc.append(consensus)\n",
    "        # reduce the trust for the elements that voted against consensus\n",
    "        reduce = ones(n_i) - ((o[t_max]!=consensus) * (1 - reduction))\n",
    "        observer_trust = np.multiply(observer_trust, reduce)\n",
    "    # compute evaluation results with reduction\n",
    "    # Consensus estimator for f\n",
    "    b = np.array(conc)\n",
    "    f = np.delete(f,drop_rows)\n",
    "    # Judge the quality of the f estimate\n",
    "    concensus_f_accuracies = 1-(abs(b-f).sum()/b.shape[0]) \n",
    "    # Estimate delta\n",
    "    delta_hat = np.mean(b)\n",
    "    if printing:\n",
    "        print(f\"Results when using Markov Reduction = {reduction}:\")\n",
    "        print(f\"The observer trust weights are \\n{observer_trust}\")\n",
    "        print(f\"Estimators are delta_hat={delta_hat}, b\")\n",
    "        print(f\"The approximation b for f is {100*concensus_f_accuracies}% accurate.\")\n",
    "        print(f\"The approximation delta_hat for delta={delta}\") \n",
    "        print(f\"has relative error {(delta_hat-delta)/delta}.\")\n",
    "    return(observer_trust, b, delta_hat)"
   ]
  },
  {
   "cell_type": "code",
   "execution_count": 84,
   "id": "063d1f81-8878-4fa7-8c65-d98ccdf3dcee",
   "metadata": {},
   "outputs": [
    {
     "data": {
      "application/vnd.jupyter.widget-view+json": {
       "model_id": "5cf934b0b9304cfda63638ec17228cc6",
       "version_major": 2,
       "version_minor": 0
      },
      "text/plain": [
       "  0%|          | 0/1000 [00:00<?, ?it/s]"
      ]
     },
     "metadata": {},
     "output_type": "display_data"
    },
    {
     "name": "stdout",
     "output_type": "stream",
     "text": [
      "Results when using Markov Reduction = 0.99:\n",
      "The observer trust weights are \n",
      "[1.30275764e-03 7.55518341e-02 1.60888329e-03 2.76836936e-03\n",
      " 1.53165192e-04 2.66210006e-04 5.66297108e-05 1.71069639e-04\n",
      " 6.19252872e-04 3.85303585e-02 5.48896377e-04 1.35476288e-02\n",
      " 1.17943806e-04 2.35964522e-04 8.04179448e-04 2.79929329e-04\n",
      " 1.67133935e-01 2.74068567e-03 2.26666578e-04 7.05684372e-04]\n",
      "Estimators are delta_hat=0.848, b\n",
      "The approximation b for f is 97.0% accurate.\n",
      "The approximation delta_hat for delta=0.8590461529521575\n",
      "has relative error -0.012858625714342363.\n"
     ]
    }
   ],
   "source": [
    "mrestimates = markov_reduce(data, reduction=0.99, agreement_thresh=0.5, printing=True)"
   ]
  },
  {
   "cell_type": "code",
   "execution_count": 87,
   "id": "7eb88723-ddd5-4c2e-8aa4-c7a0bf7deb8d",
   "metadata": {},
   "outputs": [
    {
     "data": {
      "text/plain": [
       "[<matplotlib.lines.Line2D at 0x7fd835e73a60>]"
      ]
     },
     "execution_count": 87,
     "metadata": {},
     "output_type": "execute_result"
    },
    {
     "data": {
      "image/png": "[encoded data removed]",
      "text/plain": [
       "<Figure size 432x288 with 1 Axes>"
      ]
     },
     "metadata": {
      "needs_background": "light"
     },
     "output_type": "display_data"
    }
   ],
   "source": [
    "plot(mrestimates[0]/mrestimates[0].sum())\n",
    "plot(beta)"
   ]
  },
  {
   "cell_type": "code",
   "execution_count": 89,
   "id": "2e2ff894-fef5-44de-8cab-adcd50f333bb",
   "metadata": {},
   "outputs": [
    {
     "data": {
      "application/vnd.jupyter.widget-view+json": {
       "model_id": "03b8099b61fc4cc09b5f6e5d103ae471",
       "version_major": 2,
       "version_minor": 0
      },
      "text/plain": [
       "  0%|          | 0/1000 [00:00<?, ?it/s]"
      ]
     },
     "metadata": {},
     "output_type": "display_data"
    },
    {
     "name": "stdout",
     "output_type": "stream",
     "text": [
      "Results when using Markov Reduction = 0.999:\n",
      "The observer trust weights are \n",
      "[0.51616401 0.77172301 0.52923738 0.56479882 0.41876922 0.44423314\n",
      " 0.37814169 0.42425152 0.4831811  0.7311354  0.48028925 0.65756633\n",
      " 0.40638662 0.43717847 0.49294694 0.44601452 0.80887889 0.56198046\n",
      " 0.43456195 0.49048713]\n",
      "Estimators are delta_hat=0.842, b\n",
      "The approximation b for f is 96.6% accurate.\n",
      "The approximation delta_hat for delta=0.8590461529521575\n",
      "has relative error -0.01984311657013712.\n"
     ]
    },
    {
     "data": {
      "text/plain": [
       "[<matplotlib.lines.Line2D at 0x7fd835d68070>]"
      ]
     },
     "execution_count": 89,
     "metadata": {},
     "output_type": "execute_result"
    },
    {
     "data": {
      "image/png": "[encoded data removed]",
      "text/plain": [
       "<Figure size 432x288 with 1 Axes>"
      ]
     },
     "metadata": {
      "needs_background": "light"
     },
     "output_type": "display_data"
    }
   ],
   "source": [
    "mrestimates = markov_reduce(data, reduction=0.999, agreement_thresh=0.5, printing=True)\n",
    "plot(mrestimates[0]/mrestimates[0].sum())\n",
    "plot(beta)"
   ]
  },
  {
   "cell_type": "code",
   "execution_count": 90,
   "id": "fa77122b-e084-4ec0-a0e3-465753bd427c",
   "metadata": {},
   "outputs": [
    {
     "data": {
      "application/vnd.jupyter.widget-view+json": {
       "model_id": "b2e8d97c20e94708b7355c5e63d8f86e",
       "version_major": 2,
       "version_minor": 0
      },
      "text/plain": [
       "  0%|          | 0/1000 [00:00<?, ?it/s]"
      ]
     },
     "metadata": {},
     "output_type": "display_data"
    },
    {
     "name": "stdout",
     "output_type": "stream",
     "text": [
      "Results when using Markov Reduction = 0.8:\n",
      "The observer trust weights are \n",
      "[2.29626139e-65 9.16444925e-28 5.22109392e-64 4.57269431e-59\n",
      " 2.49780565e-85 1.75008561e-80 6.36014997e-95 3.63478561e-84\n",
      " 3.02280687e-72 7.72103322e-35 2.07725706e-73 6.44219799e-45\n",
      " 1.97896552e-88 9.62119740e-82 1.34239591e-70 4.27266995e-80\n",
      " 3.38460656e-14 4.57269431e-59 2.01771134e-82 2.81520827e-71]\n",
      "Estimators are delta_hat=0.82, b\n",
      "The approximation b for f is 93.6% accurate.\n",
      "The approximation delta_hat for delta=0.8590461529521575\n",
      "has relative error -0.045452916374717885.\n"
     ]
    },
    {
     "data": {
      "text/plain": [
       "[<matplotlib.lines.Line2D at 0x7fd835cdc580>]"
      ]
     },
     "execution_count": 90,
     "metadata": {},
     "output_type": "execute_result"
    },
    {
     "data": {
      "image/png": "[encoded data removed]",
      "text/plain": [
       "<Figure size 432x288 with 1 Axes>"
      ]
     },
     "metadata": {
      "needs_background": "light"
     },
     "output_type": "display_data"
    }
   ],
   "source": [
    "mrestimates = markov_reduce(data, reduction=0.8, agreement_thresh=0.5, printing=True)\n",
    "plot(mrestimates[0]/mrestimates[0].sum())\n",
    "plot(beta)"
   ]
  },
  {
   "cell_type": "code",
   "execution_count": 72,
   "id": "82c0b37e-eb80-4775-b198-ce72c8a06b6c",
   "metadata": {},
   "outputs": [
    {
     "name": "stdout",
     "output_type": "stream",
     "text": [
      "[ 2.  7. 11.]\n",
      "[ 2.  7. 20.]\n"
     ]
    }
   ],
   "source": [
    "w = weights=ones(o.shape[1])\n",
    "print(np.bincount(o[0],weights=w))\n",
    "w[0]=10\n",
    "print(np.bincount(o[0],weights=w))"
   ]
  },
  {
   "cell_type": "code",
   "execution_count": null,
   "id": "2a34a6cc-0846-447e-884c-145219650916",
   "metadata": {},
   "outputs": [],
   "source": []
  }
 ],
 "metadata": {
  "kernelspec": {
   "display_name": "Python 3 (ipykernel)",
   "language": "python",
   "name": "python3"
  },
  "language_info": {
   "codemirror_mode": {
    "name": "ipython",
    "version": 3
   },
   "file_extension": ".py",
   "mimetype": "text/x-python",
   "name": "python",
   "nbconvert_exporter": "python",
   "pygments_lexer": "ipython3",
   "version": "3.9.12"
  }
 },
 "nbformat": 4,
 "nbformat_minor": 5
}
